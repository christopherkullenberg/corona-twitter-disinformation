{
 "cells": [
  {
   "cell_type": "code",
   "execution_count": 23,
   "metadata": {},
   "outputs": [],
   "source": [
    "import pandas as pd\n",
    "import seaborn as sns\n",
    "import matplotlib\n",
    "import matplotlib.pyplot as plt\n",
    "import nltk\n",
    "from nltk import TweetTokenizer\n",
    "from nltk.corpus import stopwords\n",
    "from nltk import word_tokenize\n",
    "from collections import Counter\n",
    "%matplotlib inline\n",
    "import networkx as nx\n",
    "import re"
   ]
  },
  {
   "cell_type": "code",
   "execution_count": 64,
   "metadata": {},
   "outputs": [
    {
     "name": "stdout",
     "output_type": "stream",
     "text": [
      "SOFTWARE VERSIONS:\n",
      "System: linux, posix\n",
      "Platform: Linux-5.3.0-7642-generic-x86_64-with-Ubuntu-19.10-eoan\n",
      "Python: 3.7.5 (default, Nov 20 2019, 09:21:52) \n",
      "[GCC 9.2.1 20191008]\n",
      "Pandas: 1.0.0\n",
      "Matplotlib: 3.1.2\n",
      "Seaborn: 0.10.0\n",
      "NLTK: 3.4.5\n"
     ]
    }
   ],
   "source": [
    "# Software versions used\n",
    "import sys\n",
    "import platform\n",
    "import os\n",
    "print(\"SOFTWARE VERSIONS:\")\n",
    "print(\"System: \" + sys.platform + \", \" + os.name)\n",
    "print(\"Platform: \" + platform.platform())\n",
    "print(\"Python: \" + sys.version)\n",
    "print(\"Pandas: \" + pd.__version__)\n",
    "print(\"Matplotlib: \" + matplotlib.__version__)\n",
    "print(\"Seaborn: \" + sns.__version__)\n",
    "print(\"NLTK: \" + nltk.__version__)"
   ]
  },
  {
   "cell_type": "code",
   "execution_count": 65,
   "metadata": {},
   "outputs": [
    {
     "name": "stdout",
     "output_type": "stream",
     "text": [
      "Ks47656475.xlsx\n",
      "living_sweden.xlsx\n",
      "mjau10303930.xlsx\n"
     ]
    }
   ],
   "source": [
    "# Example data of typical Corona-related disinformation accounts in this repository\n",
    "for file in os.listdir():\n",
    "    if file.endswith(\"xlsx\"):\n",
    "        print(file)"
   ]
  },
  {
   "cell_type": "code",
   "execution_count": 66,
   "metadata": {},
   "outputs": [],
   "source": [
    "# Read data\n",
    "df = pd.read_excel(\"mjau10303930.xlsx\")\n",
    "#df.head()"
   ]
  },
  {
   "cell_type": "code",
   "execution_count": 67,
   "metadata": {},
   "outputs": [
    {
     "data": {
      "text/html": [
       "<div>\n",
       "<style scoped>\n",
       "    .dataframe tbody tr th:only-of-type {\n",
       "        vertical-align: middle;\n",
       "    }\n",
       "\n",
       "    .dataframe tbody tr th {\n",
       "        vertical-align: top;\n",
       "    }\n",
       "\n",
       "    .dataframe thead th {\n",
       "        text-align: right;\n",
       "    }\n",
       "</style>\n",
       "<table border=\"1\" class=\"dataframe\">\n",
       "  <thead>\n",
       "    <tr style=\"text-align: right;\">\n",
       "      <th></th>\n",
       "      <th>id_str</th>\n",
       "      <th>from_user</th>\n",
       "      <th>text</th>\n",
       "      <th>created_at</th>\n",
       "      <th>time</th>\n",
       "      <th>geo_coordinates</th>\n",
       "      <th>user_lang</th>\n",
       "      <th>in_reply_to_user_id_str</th>\n",
       "      <th>in_reply_to_screen_name</th>\n",
       "      <th>from_user_id_str</th>\n",
       "      <th>in_reply_to_status_id_str</th>\n",
       "      <th>source</th>\n",
       "      <th>profile_image_url</th>\n",
       "      <th>user_followers_count</th>\n",
       "      <th>user_friends_count</th>\n",
       "      <th>user_location</th>\n",
       "      <th>status_url</th>\n",
       "      <th>entities_str</th>\n",
       "    </tr>\n",
       "    <tr>\n",
       "      <th>time</th>\n",
       "      <th></th>\n",
       "      <th></th>\n",
       "      <th></th>\n",
       "      <th></th>\n",
       "      <th></th>\n",
       "      <th></th>\n",
       "      <th></th>\n",
       "      <th></th>\n",
       "      <th></th>\n",
       "      <th></th>\n",
       "      <th></th>\n",
       "      <th></th>\n",
       "      <th></th>\n",
       "      <th></th>\n",
       "      <th></th>\n",
       "      <th></th>\n",
       "      <th></th>\n",
       "      <th></th>\n",
       "    </tr>\n",
       "  </thead>\n",
       "  <tbody>\n",
       "    <tr>\n",
       "      <th>2020-03-14 12:57:59</th>\n",
       "      <td>1238811612921892864</td>\n",
       "      <td>mjau10303930</td>\n",
       "      <td>RT @hanifbali: Det finns inget bevis att man f...</td>\n",
       "      <td>Sat Mar 14 12:57:59 +0000 2020</td>\n",
       "      <td>2020-03-14 12:57:59</td>\n",
       "      <td>NaN</td>\n",
       "      <td>NaN</td>\n",
       "      <td>NaN</td>\n",
       "      <td>NaN</td>\n",
       "      <td>1238808469660143616</td>\n",
       "      <td>NaN</td>\n",
       "      <td>&lt;a href=\"http://twitter.com/download/iphone\" r...</td>\n",
       "      <td>http://pbs.twimg.com/profile_images/1238832971...</td>\n",
       "      <td>13</td>\n",
       "      <td>41</td>\n",
       "      <td>NaN</td>\n",
       "      <td>http://twitter.com/mjau10303930/statuses/12388...</td>\n",
       "      <td>{\"hashtags\":[],\"symbols\":[],\"user_mentions\":[{...</td>\n",
       "    </tr>\n",
       "    <tr>\n",
       "      <th>2020-03-14 12:57:52</th>\n",
       "      <td>1238811584362958851</td>\n",
       "      <td>mjau10303930</td>\n",
       "      <td>RT @hanifbali: Sluta sprida myten att det är s...</td>\n",
       "      <td>Sat Mar 14 12:57:52 +0000 2020</td>\n",
       "      <td>2020-03-14 12:57:52</td>\n",
       "      <td>NaN</td>\n",
       "      <td>NaN</td>\n",
       "      <td>NaN</td>\n",
       "      <td>NaN</td>\n",
       "      <td>1238808469660143616</td>\n",
       "      <td>NaN</td>\n",
       "      <td>&lt;a href=\"http://twitter.com/download/iphone\" r...</td>\n",
       "      <td>http://pbs.twimg.com/profile_images/1238832971...</td>\n",
       "      <td>13</td>\n",
       "      <td>41</td>\n",
       "      <td>NaN</td>\n",
       "      <td>http://twitter.com/mjau10303930/statuses/12388...</td>\n",
       "      <td>{\"hashtags\":[],\"symbols\":[],\"user_mentions\":[{...</td>\n",
       "    </tr>\n",
       "    <tr>\n",
       "      <th>2020-03-14 12:57:44</th>\n",
       "      <td>1238811550854590468</td>\n",
       "      <td>mjau10303930</td>\n",
       "      <td>RT @hanifbali: Såg detta skulle hållas i Solna...</td>\n",
       "      <td>Sat Mar 14 12:57:44 +0000 2020</td>\n",
       "      <td>2020-03-14 12:57:44</td>\n",
       "      <td>NaN</td>\n",
       "      <td>NaN</td>\n",
       "      <td>NaN</td>\n",
       "      <td>NaN</td>\n",
       "      <td>1238808469660143616</td>\n",
       "      <td>NaN</td>\n",
       "      <td>&lt;a href=\"http://twitter.com/download/iphone\" r...</td>\n",
       "      <td>http://pbs.twimg.com/profile_images/1238832971...</td>\n",
       "      <td>13</td>\n",
       "      <td>41</td>\n",
       "      <td>NaN</td>\n",
       "      <td>http://twitter.com/mjau10303930/statuses/12388...</td>\n",
       "      <td>{\"hashtags\":[],\"symbols\":[],\"user_mentions\":[{...</td>\n",
       "    </tr>\n",
       "    <tr>\n",
       "      <th>2020-03-14 12:57:39</th>\n",
       "      <td>1238811529887322112</td>\n",
       "      <td>mjau10303930</td>\n",
       "      <td>RT @hanifbali: Vi bör agera nu. Be folk isoler...</td>\n",
       "      <td>Sat Mar 14 12:57:39 +0000 2020</td>\n",
       "      <td>2020-03-14 12:57:39</td>\n",
       "      <td>NaN</td>\n",
       "      <td>NaN</td>\n",
       "      <td>NaN</td>\n",
       "      <td>NaN</td>\n",
       "      <td>1238808469660143616</td>\n",
       "      <td>NaN</td>\n",
       "      <td>&lt;a href=\"http://twitter.com/download/iphone\" r...</td>\n",
       "      <td>http://pbs.twimg.com/profile_images/1238832971...</td>\n",
       "      <td>13</td>\n",
       "      <td>41</td>\n",
       "      <td>NaN</td>\n",
       "      <td>http://twitter.com/mjau10303930/statuses/12388...</td>\n",
       "      <td>{\"hashtags\":[],\"symbols\":[],\"user_mentions\":[{...</td>\n",
       "    </tr>\n",
       "    <tr>\n",
       "      <th>2020-03-14 12:57:39</th>\n",
       "      <td>1238811529887322112</td>\n",
       "      <td>mjau10303930</td>\n",
       "      <td>RT @hanifbali: Vi bör agera nu. Be folk isoler...</td>\n",
       "      <td>Sat Mar 14 12:57:39 +0000 2020</td>\n",
       "      <td>2020-03-14 12:57:39</td>\n",
       "      <td>NaN</td>\n",
       "      <td>NaN</td>\n",
       "      <td>NaN</td>\n",
       "      <td>NaN</td>\n",
       "      <td>1238808469660143616</td>\n",
       "      <td>NaN</td>\n",
       "      <td>&lt;a href=\"http://twitter.com/download/iphone\" r...</td>\n",
       "      <td>http://pbs.twimg.com/profile_images/1238832971...</td>\n",
       "      <td>13</td>\n",
       "      <td>41</td>\n",
       "      <td>NaN</td>\n",
       "      <td>http://twitter.com/mjau10303930/statuses/12388...</td>\n",
       "      <td>{\"hashtags\":[],\"symbols\":[],\"user_mentions\":[{...</td>\n",
       "    </tr>\n",
       "  </tbody>\n",
       "</table>\n",
       "</div>"
      ],
      "text/plain": [
       "                                  id_str     from_user  \\\n",
       "time                                                     \n",
       "2020-03-14 12:57:59  1238811612921892864  mjau10303930   \n",
       "2020-03-14 12:57:52  1238811584362958851  mjau10303930   \n",
       "2020-03-14 12:57:44  1238811550854590468  mjau10303930   \n",
       "2020-03-14 12:57:39  1238811529887322112  mjau10303930   \n",
       "2020-03-14 12:57:39  1238811529887322112  mjau10303930   \n",
       "\n",
       "                                                                  text  \\\n",
       "time                                                                     \n",
       "2020-03-14 12:57:59  RT @hanifbali: Det finns inget bevis att man f...   \n",
       "2020-03-14 12:57:52  RT @hanifbali: Sluta sprida myten att det är s...   \n",
       "2020-03-14 12:57:44  RT @hanifbali: Såg detta skulle hållas i Solna...   \n",
       "2020-03-14 12:57:39  RT @hanifbali: Vi bör agera nu. Be folk isoler...   \n",
       "2020-03-14 12:57:39  RT @hanifbali: Vi bör agera nu. Be folk isoler...   \n",
       "\n",
       "                                         created_at                time  \\\n",
       "time                                                                      \n",
       "2020-03-14 12:57:59  Sat Mar 14 12:57:59 +0000 2020 2020-03-14 12:57:59   \n",
       "2020-03-14 12:57:52  Sat Mar 14 12:57:52 +0000 2020 2020-03-14 12:57:52   \n",
       "2020-03-14 12:57:44  Sat Mar 14 12:57:44 +0000 2020 2020-03-14 12:57:44   \n",
       "2020-03-14 12:57:39  Sat Mar 14 12:57:39 +0000 2020 2020-03-14 12:57:39   \n",
       "2020-03-14 12:57:39  Sat Mar 14 12:57:39 +0000 2020 2020-03-14 12:57:39   \n",
       "\n",
       "                     geo_coordinates  user_lang  in_reply_to_user_id_str  \\\n",
       "time                                                                       \n",
       "2020-03-14 12:57:59              NaN        NaN                      NaN   \n",
       "2020-03-14 12:57:52              NaN        NaN                      NaN   \n",
       "2020-03-14 12:57:44              NaN        NaN                      NaN   \n",
       "2020-03-14 12:57:39              NaN        NaN                      NaN   \n",
       "2020-03-14 12:57:39              NaN        NaN                      NaN   \n",
       "\n",
       "                    in_reply_to_screen_name     from_user_id_str  \\\n",
       "time                                                               \n",
       "2020-03-14 12:57:59                     NaN  1238808469660143616   \n",
       "2020-03-14 12:57:52                     NaN  1238808469660143616   \n",
       "2020-03-14 12:57:44                     NaN  1238808469660143616   \n",
       "2020-03-14 12:57:39                     NaN  1238808469660143616   \n",
       "2020-03-14 12:57:39                     NaN  1238808469660143616   \n",
       "\n",
       "                     in_reply_to_status_id_str  \\\n",
       "time                                             \n",
       "2020-03-14 12:57:59                        NaN   \n",
       "2020-03-14 12:57:52                        NaN   \n",
       "2020-03-14 12:57:44                        NaN   \n",
       "2020-03-14 12:57:39                        NaN   \n",
       "2020-03-14 12:57:39                        NaN   \n",
       "\n",
       "                                                                source  \\\n",
       "time                                                                     \n",
       "2020-03-14 12:57:59  <a href=\"http://twitter.com/download/iphone\" r...   \n",
       "2020-03-14 12:57:52  <a href=\"http://twitter.com/download/iphone\" r...   \n",
       "2020-03-14 12:57:44  <a href=\"http://twitter.com/download/iphone\" r...   \n",
       "2020-03-14 12:57:39  <a href=\"http://twitter.com/download/iphone\" r...   \n",
       "2020-03-14 12:57:39  <a href=\"http://twitter.com/download/iphone\" r...   \n",
       "\n",
       "                                                     profile_image_url  \\\n",
       "time                                                                     \n",
       "2020-03-14 12:57:59  http://pbs.twimg.com/profile_images/1238832971...   \n",
       "2020-03-14 12:57:52  http://pbs.twimg.com/profile_images/1238832971...   \n",
       "2020-03-14 12:57:44  http://pbs.twimg.com/profile_images/1238832971...   \n",
       "2020-03-14 12:57:39  http://pbs.twimg.com/profile_images/1238832971...   \n",
       "2020-03-14 12:57:39  http://pbs.twimg.com/profile_images/1238832971...   \n",
       "\n",
       "                     user_followers_count  user_friends_count  user_location  \\\n",
       "time                                                                           \n",
       "2020-03-14 12:57:59                    13                  41            NaN   \n",
       "2020-03-14 12:57:52                    13                  41            NaN   \n",
       "2020-03-14 12:57:44                    13                  41            NaN   \n",
       "2020-03-14 12:57:39                    13                  41            NaN   \n",
       "2020-03-14 12:57:39                    13                  41            NaN   \n",
       "\n",
       "                                                            status_url  \\\n",
       "time                                                                     \n",
       "2020-03-14 12:57:59  http://twitter.com/mjau10303930/statuses/12388...   \n",
       "2020-03-14 12:57:52  http://twitter.com/mjau10303930/statuses/12388...   \n",
       "2020-03-14 12:57:44  http://twitter.com/mjau10303930/statuses/12388...   \n",
       "2020-03-14 12:57:39  http://twitter.com/mjau10303930/statuses/12388...   \n",
       "2020-03-14 12:57:39  http://twitter.com/mjau10303930/statuses/12388...   \n",
       "\n",
       "                                                          entities_str  \n",
       "time                                                                    \n",
       "2020-03-14 12:57:59  {\"hashtags\":[],\"symbols\":[],\"user_mentions\":[{...  \n",
       "2020-03-14 12:57:52  {\"hashtags\":[],\"symbols\":[],\"user_mentions\":[{...  \n",
       "2020-03-14 12:57:44  {\"hashtags\":[],\"symbols\":[],\"user_mentions\":[{...  \n",
       "2020-03-14 12:57:39  {\"hashtags\":[],\"symbols\":[],\"user_mentions\":[{...  \n",
       "2020-03-14 12:57:39  {\"hashtags\":[],\"symbols\":[],\"user_mentions\":[{...  "
      ]
     },
     "execution_count": 67,
     "metadata": {},
     "output_type": "execute_result"
    }
   ],
   "source": [
    "# Make index from timestamp with proper formatting\n",
    "pd.created_at = pd.to_datetime(df.time, \n",
    "                               format='%Y-%m%-%d%H:%M:%S')\n",
    "df.index = pd.created_at\n",
    "df.tail()"
   ]
  },
  {
   "cell_type": "markdown",
   "metadata": {},
   "source": [
    "## Timeline \n",
    "\n",
    "This figure resamples the timestamps into day-for-day chunks to make it possible to plot the number of Twitter messages on a readable timeline.\n",
    "\n"
   ]
  },
  {
   "cell_type": "code",
   "execution_count": 68,
   "metadata": {},
   "outputs": [
    {
     "data": {
      "text/plain": [
       "Text(0, 0.5, 'Tweets')"
      ]
     },
     "execution_count": 68,
     "metadata": {},
     "output_type": "execute_result"
    },
    {
     "data": {
      "image/png": "[encoded data removed]",
      "text/plain": [
       "<Figure size 1080x504 with 1 Axes>"
      ]
     },
     "metadata": {
      "needs_background": "light"
     },
     "output_type": "display_data"
    }
   ],
   "source": [
    "tweetsperday = df.resample('D').count()\n",
    "\n",
    "fig = plt.figure(figsize=(15,7))\n",
    "ax = fig.add_subplot(111)\n",
    "\n",
    "plt.title('Twitter messages per day', size=16)\n",
    "\n",
    "tweetsperday['id_str'].plot() #Plot each individual tweet per day\n",
    "\n",
    "plt.xlabel('Date')\n",
    "plt.ylabel('Tweets')"
   ]
  },
  {
   "cell_type": "markdown",
   "metadata": {},
   "source": [
    "## 4. Word frequencies\n",
    "Creates a word frequency chart by counting the most frequent words. This is a very simple method for detecting the main content of discussion. "
   ]
  },
  {
   "cell_type": "code",
   "execution_count": 69,
   "metadata": {},
   "outputs": [
    {
     "data": {
      "image/png": "[encoded data removed]",
      "text/plain": [
       "<Figure size 1440x720 with 1 Axes>"
      ]
     },
     "metadata": {
      "needs_background": "light"
     },
     "output_type": "display_data"
    }
   ],
   "source": [
    "wordlist = []\n",
    "\n",
    "# Extracts tokens minus Swedish stopwords\n",
    "tokenlist = []\n",
    "for d in df['text'].iteritems():\n",
    "    #print(stopwords.words('swedish'))\n",
    "    tknzr = TweetTokenizer()\n",
    "    dtokenized = tknzr.tokenize(d[1])\n",
    "    #print(dtokenized)\n",
    "    for token in dtokenized:\n",
    "        tokenlist.append(token)\n",
    "             \n",
    "for t in tokenlist:\n",
    "    if t not in stopwords.words('swedish'):\n",
    "        if len(t) > 2: #remove short special chars like :, ;, #\n",
    "            if t.startswith('http'): #remove links\n",
    "                continue\n",
    "            if t.startswith('@'): #remove users\n",
    "                continue\n",
    "            #print(t[0] + \"\\t\" + str(t[1]))\n",
    "            wordlist.append(t)\n",
    "\n",
    "word_freq = Counter(wordlist).most_common(10)\n",
    "\n",
    "wordfreqdict = {}\n",
    "\n",
    "for w in word_freq:\n",
    "    wordfreqdict[w[0]] = w[1]\n",
    "\n",
    "dfwords = pd.DataFrame.from_dict(wordfreqdict, orient=\"index\")\n",
    "dfwords = dfwords.sort_values(by=0, ascending=False)\n",
    "\n",
    "fig = plt.figure(figsize=(20,10))\n",
    "ax = fig.add_subplot(111)\n",
    "\n",
    "plot = sns.barplot(x=dfwords.index, y=dfwords[0], data=dfwords, color=\"royalblue\")\n",
    "for item in plot.get_xticklabels():\n",
    "    item.set_rotation(45)\n",
    "    item.set_fontsize(16)"
   ]
  },
  {
   "cell_type": "markdown",
   "metadata": {},
   "source": [
    "## Mentions network\n",
    "- which users are frequently mentioned."
   ]
  },
  {
   "cell_type": "code",
   "execution_count": 70,
   "metadata": {},
   "outputs": [],
   "source": [
    "G = nx.DiGraph()"
   ]
  },
  {
   "cell_type": "code",
   "execution_count": 71,
   "metadata": {},
   "outputs": [],
   "source": [
    "mentioned_users = []\n",
    "\n",
    "for tweet in df['text']:\n",
    "    match = re.findall(\"(?<=@).*?(?=[\\s|\\:|\\.])\", tweet, re.IGNORECASE)\n",
    "    if match:\n",
    "        for m in match:\n",
    "            mentioned_users.append(m)\n",
    "            G.add_edge(\"Ks47656475\", m)\n",
    "    #nx.write_gexf(G, \"filename.gexf\")  # use this file for network analysis"
   ]
  },
  {
   "cell_type": "code",
   "execution_count": 72,
   "metadata": {},
   "outputs": [
    {
     "name": "stdout",
     "output_type": "stream",
     "text": [
      "('hanifbali', 51)\n",
      "('pwolodarski', 27)\n",
      "('Jerlerup', 23)\n",
      "('AgnesWold', 20)\n",
      "('Folkhalsomynd', 19)\n",
      "('Ivarpi', 18)\n",
      "('ROGSAHL', 16)\n",
      "('chrisforsne', 15)\n",
      "('Bacchus38823823', 13)\n",
      "('DrEkstrom', 12)\n",
      "('akutdoktorn', 10)\n",
      "('nntaleb', 8)\n",
      "('bjan9', 7)\n",
      "('DrEricDing', 7)\n",
      "('WHO', 6)\n",
      "('DanielFalush', 6)\n",
      "('Nymne', 5)\n",
      "('Gert54508411', 5)\n",
      "('PontusPersson5', 5)\n",
      "('DrTedros', 5)\n"
     ]
    }
   ],
   "source": [
    "for user in Counter(mentioned_users).most_common(20):\n",
    "    print(user)"
   ]
  },
  {
   "cell_type": "markdown",
   "metadata": {},
   "source": [
    "## Retweets\n",
    "- which accounts/users are often retweeted."
   ]
  },
  {
   "cell_type": "code",
   "execution_count": 73,
   "metadata": {},
   "outputs": [],
   "source": [
    "retweeted_accounts = []"
   ]
  },
  {
   "cell_type": "code",
   "execution_count": 74,
   "metadata": {},
   "outputs": [
    {
     "name": "stdout",
     "output_type": "stream",
     "text": [
      "('hanifbali', 32)\n",
      "('Jerlerup', 17)\n",
      "('Ivarpi', 13)\n",
      "('pwolodarski', 8)\n",
      "('chrisforsne', 8)\n",
      "('Bacchus38823823', 7)\n",
      "('nntaleb', 7)\n",
      "('DrEricDing', 7)\n",
      "('WHO', 6)\n",
      "('akutdoktorn', 6)\n",
      "('ROGSAHL', 6)\n",
      "('DanielFalush', 6)\n",
      "('HansS01', 4)\n",
      "('MagnusRanstorp', 4)\n",
      "('Gert54508411', 4)\n",
      "('bjornsing', 3)\n",
      "('gorberg', 3)\n",
      "('edyong209', 3)\n",
      "('bjan9', 3)\n",
      "('OiskaE', 2)\n"
     ]
    }
   ],
   "source": [
    "for tweet in df['text']:\n",
    "    match = re.findall(\"(?<=RT\\s\\@).*?(?=\\:)\", tweet, re.IGNORECASE)\n",
    "    if match:\n",
    "        retweeted_accounts.append(match[0])\n",
    "\n",
    "#print(retweeted_accounts)       \n",
    "for user in Counter(retweeted_accounts).most_common(20):\n",
    "    print(user)"
   ]
  },
  {
   "cell_type": "code",
   "execution_count": null,
   "metadata": {},
   "outputs": [],
   "source": []
  },
  {
   "cell_type": "code",
   "execution_count": null,
   "metadata": {},
   "outputs": [],
   "source": []
  }
 ],
 "metadata": {
  "anaconda-cloud": {},
  "kernelspec": {
   "display_name": "Python 3",
   "language": "python",
   "name": "python3"
  },
  "language_info": {
   "codemirror_mode": {
    "name": "ipython",
    "version": 3
   },
   "file_extension": ".py",
   "mimetype": "text/x-python",
   "name": "python",
   "nbconvert_exporter": "python",
   "pygments_lexer": "ipython3",
   "version": "3.7.5"
  }
 },
 "nbformat": 4,
 "nbformat_minor": 4
}
